{
  "nbformat": 4,
  "nbformat_minor": 0,
  "metadata": {
    "colab": {
      "name": "currencyConversion2bcontd.ipynb",
      "provenance": []
    },
    "kernelspec": {
      "name": "python3",
      "display_name": "Python 3"
    }
  },
  "cells": [
    {
      "cell_type": "code",
      "metadata": {
        "id": "SZr1qr3gkeMS",
        "colab_type": "code",
        "colab": {
          "base_uri": "https://localhost:8080/",
          "height": 302
        },
        "outputId": "6f0f099e-ade1-4b41-9909-9c3b3570436f"
      },
      "source": [
        "pip install forex-python"
      ],
      "execution_count": 1,
      "outputs": [
        {
          "output_type": "stream",
          "text": [
            "Collecting forex-python\n",
            "  Downloading https://files.pythonhosted.org/packages/1a/ff/f3f6da21e8fdc6ece355643871749c79a3191fed1cba088cbd0dc597dfee/forex-python-1.5.tar.gz\n",
            "Requirement already satisfied: requests in /usr/local/lib/python3.6/dist-packages (from forex-python) (2.23.0)\n",
            "Collecting simplejson\n",
            "\u001b[?25l  Downloading https://files.pythonhosted.org/packages/73/96/1e6b19045375890068d7342cbe280dd64ae73fd90b9735b5efb8d1e044a1/simplejson-3.17.2-cp36-cp36m-manylinux2010_x86_64.whl (127kB)\n",
            "\u001b[K     |████████████████████████████████| 133kB 4.6MB/s \n",
            "\u001b[?25hRequirement already satisfied: certifi>=2017.4.17 in /usr/local/lib/python3.6/dist-packages (from requests->forex-python) (2020.6.20)\n",
            "Requirement already satisfied: idna<3,>=2.5 in /usr/local/lib/python3.6/dist-packages (from requests->forex-python) (2.10)\n",
            "Requirement already satisfied: chardet<4,>=3.0.2 in /usr/local/lib/python3.6/dist-packages (from requests->forex-python) (3.0.4)\n",
            "Requirement already satisfied: urllib3!=1.25.0,!=1.25.1,<1.26,>=1.21.1 in /usr/local/lib/python3.6/dist-packages (from requests->forex-python) (1.24.3)\n",
            "Building wheels for collected packages: forex-python\n",
            "  Building wheel for forex-python (setup.py) ... \u001b[?25l\u001b[?25hdone\n",
            "  Created wheel for forex-python: filename=forex_python-1.5-cp36-none-any.whl size=7235 sha256=ae9c4dd88caa8e1cd7fce21a37728c32049081a6f8678af2da8dcb3ccef4968c\n",
            "  Stored in directory: /root/.cache/pip/wheels/c9/ee/ce/a0c208e72d186b786b0c51914675bc03d1bf00b8ed9406271b\n",
            "Successfully built forex-python\n",
            "Installing collected packages: simplejson, forex-python\n",
            "Successfully installed forex-python-1.5 simplejson-3.17.2\n"
          ],
          "name": "stdout"
        }
      ]
    },
    {
      "cell_type": "code",
      "metadata": {
        "id": "bLbs9vrrYllZ",
        "colab_type": "code",
        "colab": {}
      },
      "source": [
        "from forex_python.converter import CurrencyRates"
      ],
      "execution_count": 4,
      "outputs": []
    },
    {
      "cell_type": "code",
      "metadata": {
        "id": "TE1M0wgBYyj2",
        "colab_type": "code",
        "colab": {}
      },
      "source": [
        "#class object creation\n",
        "c=CurrencyRates()"
      ],
      "execution_count": 5,
      "outputs": []
    },
    {
      "cell_type": "code",
      "metadata": {
        "id": "HukX5B1nZFL6",
        "colab_type": "code",
        "colab": {
          "base_uri": "https://localhost:8080/",
          "height": 34
        },
        "outputId": "a453e701-3265-4285-92fe-b073a60cac06"
      },
      "source": [
        "print(c.get_rate('USD','INR'))"
      ],
      "execution_count": 6,
      "outputs": [
        {
          "output_type": "stream",
          "text": [
            "75.1215469613\n"
          ],
          "name": "stdout"
        }
      ]
    },
    {
      "cell_type": "code",
      "metadata": {
        "id": "dhAaxDQYZREd",
        "colab_type": "code",
        "colab": {
          "base_uri": "https://localhost:8080/",
          "height": 34
        },
        "outputId": "24af6cff-b1f1-4a73-d283-b6a2c729b554"
      },
      "source": [
        "print(c.convert('USD','INR',20))"
      ],
      "execution_count": 7,
      "outputs": [
        {
          "output_type": "stream",
          "text": [
            "1502.430939226\n"
          ],
          "name": "stdout"
        }
      ]
    },
    {
      "cell_type": "code",
      "metadata": {
        "id": "Xog6abBpZccQ",
        "colab_type": "code",
        "colab": {}
      },
      "source": [
        ""
      ],
      "execution_count": null,
      "outputs": []
    }
  ]
}